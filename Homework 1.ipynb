{
 "cells": [
  {
   "cell_type": "code",
   "execution_count": 5,
   "id": "879e6d01-e6c7-4f9a-ab0c-424f117c2e64",
   "metadata": {},
   "outputs": [],
   "source": [
    "import pandas as pd"
   ]
  },
  {
   "cell_type": "code",
   "execution_count": 6,
   "id": "9dcb14ab-ab4a-43d3-aa48-39a047f21edc",
   "metadata": {},
   "outputs": [
    {
     "data": {
      "text/plain": [
       "'2.2.2'"
      ]
     },
     "execution_count": 6,
     "metadata": {},
     "output_type": "execute_result"
    }
   ],
   "source": [
    "pd.__version__"
   ]
  },
  {
   "cell_type": "code",
   "execution_count": 7,
   "id": "fe23b6ce-f01e-4da2-93a1-c66df82a91a7",
   "metadata": {},
   "outputs": [
    {
     "name": "stdout",
     "output_type": "stream",
     "text": [
      "                                              Laptop Status   Brand  \\\n",
      "0  ASUS ExpertBook B1 B1502CBA-EJ0436X Intel Core...    New    Asus   \n",
      "1  Alurin Go Start Intel Celeron N4020/8GB/256GB ...    New  Alurin   \n",
      "2  ASUS ExpertBook B1 B1502CBA-EJ0424X Intel Core...    New    Asus   \n",
      "3  MSI Katana GF66 12UC-082XES Intel Core i7-1270...    New     MSI   \n",
      "4  HP 15S-FQ5085NS Intel Core i5-1235U/16GB/512GB...    New      HP   \n",
      "\n",
      "        Model            CPU  RAM  Storage Storage type       GPU  Screen  \\\n",
      "0  ExpertBook  Intel Core i5    8      512          SSD       NaN    15.6   \n",
      "1          Go  Intel Celeron    8      256          SSD       NaN    15.6   \n",
      "2  ExpertBook  Intel Core i3    8      256          SSD       NaN    15.6   \n",
      "3      Katana  Intel Core i7   16     1000          SSD  RTX 3050    15.6   \n",
      "4         15S  Intel Core i5   16      512          SSD       NaN    15.6   \n",
      "\n",
      "  Touch  Final Price  \n",
      "0    No      1009.00  \n",
      "1    No       299.00  \n",
      "2    No       789.00  \n",
      "3    No      1199.00  \n",
      "4    No       669.01  \n"
     ]
    }
   ],
   "source": [
    "# Load CSV into a DataFrame\n",
    "df = pd.read_csv('C:/Users/kevin/OneDrive/Desktop/ML/laptops.csv')\n",
    "\n",
    "# Display the first few rows\n",
    "print(df.head())"
   ]
  },
  {
   "cell_type": "code",
   "execution_count": 8,
   "id": "16c38008-a2af-44c9-a0e6-6f892f4c69bd",
   "metadata": {},
   "outputs": [
    {
     "name": "stdout",
     "output_type": "stream",
     "text": [
      "(2160, 12)\n",
      "Number of records (rows): 2160\n"
     ]
    }
   ],
   "source": [
    "# Check the shape of the DataFrame (rows, columns)\n",
    "print(df.shape)\n",
    "\n",
    "# To check the number of records (rows) only\n",
    "print(\"Number of records (rows):\", df.shape[0])"
   ]
  },
  {
   "cell_type": "code",
   "execution_count": 9,
   "id": "2754a67a-735c-4841-812a-09cefb9f1a20",
   "metadata": {},
   "outputs": [
    {
     "name": "stdout",
     "output_type": "stream",
     "text": [
      "Number of unique brands: 27\n"
     ]
    }
   ],
   "source": [
    "num_brands = df['Brand'].nunique()\n",
    "\n",
    "print(\"Number of unique brands:\", num_brands)"
   ]
  },
  {
   "cell_type": "code",
   "execution_count": 10,
   "id": "c956d825-c660-4597-abc3-2ea0f3fe8f6a",
   "metadata": {},
   "outputs": [
    {
     "name": "stdout",
     "output_type": "stream",
     "text": [
      "Laptop             0\n",
      "Status             0\n",
      "Brand              0\n",
      "Model              0\n",
      "CPU                0\n",
      "RAM                0\n",
      "Storage            0\n",
      "Storage type      42\n",
      "GPU             1371\n",
      "Screen             4\n",
      "Touch              0\n",
      "Final Price        0\n",
      "dtype: int64\n"
     ]
    }
   ],
   "source": [
    "# Check for missing values in each column\n",
    "missing_values = df.isnull().sum()\n",
    "\n",
    "print(missing_values)\n"
   ]
  },
  {
   "cell_type": "code",
   "execution_count": 11,
   "id": "80208ad6-8947-4be1-9b92-69bf79a4ee7c",
   "metadata": {},
   "outputs": [
    {
     "name": "stdout",
     "output_type": "stream",
     "text": [
      "True\n"
     ]
    }
   ],
   "source": [
    "# Check if there are any missing values in the DataFrame\n",
    "print(df.isnull().values.any())\n",
    "\n"
   ]
  },
  {
   "cell_type": "code",
   "execution_count": 12,
   "id": "8cc7c656-ba6b-47a7-ba11-bee1f868aea5",
   "metadata": {},
   "outputs": [
    {
     "name": "stdout",
     "output_type": "stream",
     "text": [
      "Missing values count for each column:\n",
      "Laptop             0\n",
      "Status             0\n",
      "Brand              0\n",
      "Model              0\n",
      "CPU                0\n",
      "RAM                0\n",
      "Storage            0\n",
      "Storage type      42\n",
      "GPU             1371\n",
      "Screen             4\n",
      "Touch              0\n",
      "Final Price        0\n",
      "dtype: int64\n",
      "Total missing values in the DataFrame: 1417\n"
     ]
    }
   ],
   "source": [
    "missing_values_count = df.isnull().sum()\n",
    "\n",
    "print(\"Missing values count for each column:\")\n",
    "print(missing_values_count)\n",
    "\n",
    "\n",
    "\n",
    "# Count of missing values in each column\n",
    "missing_values_count = df.isnull().sum()\n",
    "\n",
    "# Total number of missing values\n",
    "total_missing = missing_values_count.sum()\n",
    "\n",
    "print(\"Total missing values in the DataFrame:\", total_missing)\n"
   ]
  },
  {
   "cell_type": "code",
   "execution_count": 13,
   "id": "6acd60a6-0da6-459e-89fc-c7f55b973ded",
   "metadata": {},
   "outputs": [
    {
     "name": "stdout",
     "output_type": "stream",
     "text": [
      "Missing values count for each column:\n",
      "Laptop             0\n",
      "Status             0\n",
      "Brand              0\n",
      "Model              0\n",
      "CPU                0\n",
      "RAM                0\n",
      "Storage            0\n",
      "Storage type      42\n",
      "GPU             1371\n",
      "Screen             4\n",
      "Touch              0\n",
      "Final Price        0\n",
      "dtype: int64\n",
      "Total missing values in the DataFrame: 1417\n"
     ]
    }
   ],
   "source": [
    "missing_values_count = df.isnull().sum()\n",
    "\n",
    "print(\"Missing values count for each column:\")\n",
    "print(missing_values_count)\n",
    "\n",
    "\n",
    "\n",
    "# Count of missing values in each column\n",
    "missing_values_count = df.isnull().sum()\n",
    "\n",
    "# Total number of missing values\n",
    "total_missing = missing_values_count.sum()\n",
    "\n",
    "print(\"Total missing values in the DataFrame:\", total_missing)\n"
   ]
  },
  {
   "cell_type": "code",
   "execution_count": 14,
   "id": "41bb4ae1-d99f-45e8-ba30-1490f44b1327",
   "metadata": {},
   "outputs": [
    {
     "name": "stdout",
     "output_type": "stream",
     "text": [
      "Total missing values in the DataFrame: 0\n"
     ]
    }
   ],
   "source": [
    "\n",
    "\n",
    "\n",
    "\n",
    "# Count of missing values in each column\n",
    "missing_values_count = df['Brand'].isnull().sum()\n",
    "\n",
    "# Total number of missing values\n",
    "total_missing = missing_values_count.sum()\n",
    "\n",
    "print(\"Total missing values in the DataFrame:\", total_missing)\n"
   ]
  },
  {
   "cell_type": "code",
   "execution_count": 15,
   "id": "b04a4e6c-bdc3-42cb-af78-20d4b273356a",
   "metadata": {},
   "outputs": [
    {
     "name": "stdout",
     "output_type": "stream",
     "text": [
      "price of unique brands: 7150.47\n"
     ]
    }
   ],
   "source": [
    "num_brands = df['Final Price'].max()\n",
    "\n",
    "print(\"price of unique brands:\", num_brands)"
   ]
  },
  {
   "cell_type": "code",
   "execution_count": 16,
   "id": "8f891960-9e39-4a10-b1b2-0102a2479313",
   "metadata": {},
   "outputs": [
    {
     "name": "stdout",
     "output_type": "stream",
     "text": [
      "Maximum final price: 201.05\n"
     ]
    }
   ],
   "source": [
    "# Find the maximum final price\n",
    "max_price = df['Final Price'].min()\n",
    "\n",
    "print(\"Maximum final price:\", max_price)"
   ]
  },
  {
   "cell_type": "code",
   "execution_count": 17,
   "id": "3dd820ec-ffac-4217-a037-338396890714",
   "metadata": {},
   "outputs": [
    {
     "name": "stdout",
     "output_type": "stream",
     "text": [
      "Median value of the 'screen' column: 15.6\n"
     ]
    }
   ],
   "source": [
    "# Calculate the median value of the 'screen' column\n",
    "median_screen = df['Screen'].median()\n",
    "\n",
    "print(\"Median value of the 'screen' column:\", median_screen)\n"
   ]
  },
  {
   "cell_type": "code",
   "execution_count": 18,
   "id": "dffe0bcb-6461-4ce0-8a2d-5184a30f0206",
   "metadata": {},
   "outputs": [
    {
     "name": "stdout",
     "output_type": "stream",
     "text": [
      "Median value of the 'screen' column: 15.6\n"
     ]
    }
   ],
   "source": [
    "# Calculate the median value of the 'screen' column\n",
    "median_screen = df['Screen'].median()\n",
    "\n",
    "print(\"Median value of the 'screen' column:\", median_screen)"
   ]
  },
  {
   "cell_type": "code",
   "execution_count": 19,
   "id": "01c28005-2684-43b7-ada5-f0f62c4054a1",
   "metadata": {},
   "outputs": [
    {
     "name": "stdout",
     "output_type": "stream",
     "text": [
      "Index(['Laptop', 'Status', 'Brand', 'Model', 'CPU', 'RAM', 'Storage',\n",
      "       'Storage type', 'GPU', 'Screen', 'Touch', 'Final Price'],\n",
      "      dtype='object')\n"
     ]
    }
   ],
   "source": [
    "print(df.columns)\n"
   ]
  },
  {
   "cell_type": "code",
   "execution_count": 23,
   "id": "4bb260a0-7e51-4b9f-a890-1a5b0af12348",
   "metadata": {},
   "outputs": [
    {
     "name": "stdout",
     "output_type": "stream",
     "text": [
      "Maximum final price of Dell notebooks: 3936.0\n"
     ]
    }
   ],
   "source": [
    "import pandas as pd\n",
    "\n",
    "# Load your data\n",
    "df = pd.read_csv('C:/Users/kevin/OneDrive/Desktop/ML/laptops.csv')\n",
    "\n",
    "# Filter for Dell notebooks\n",
    "dell_notebooks = df[df['Brand'] == 'Dell']  # Make sure 'Brand' is the correct column name\n",
    "\n",
    "# Calculate the maximum final price\n",
    "max_price = dell_notebooks['Final Price'].max()  # Make sure 'Final Price' is the correct column name\n",
    "print(\"Maximum final price of Dell notebooks:\", max_price)\n"
   ]
  },
  {
   "cell_type": "code",
   "execution_count": 27,
   "id": "4c44f277-2899-4dce-a9ef-ab3905afe615",
   "metadata": {},
   "outputs": [
    {
     "name": "stdout",
     "output_type": "stream",
     "text": [
      "Sum of all elements of w: 91.29988062995588\n"
     ]
    }
   ],
   "source": [
    "import pandas as pd\n",
    "import numpy as np\n",
    "\n",
    "# Load the dataset\n",
    "df = pd.read_csv('C:/Users/kevin/OneDrive/Desktop/ML/laptops.csv')\n",
    "\n",
    "# Select \"Innjoo\" laptops\n",
    "innjoo_laptops = df[df['Brand'] == 'Innjoo']  # Adjust the brand name if necessary\n",
    "\n",
    "# Select only columns RAM, Storage, Screen\n",
    "selected_columns = innjoo_laptops[['RAM', 'Storage', 'Screen']]\n",
    "\n",
    "# Get the underlying NumPy array\n",
    "X = selected_columns.to_numpy()\n",
    "\n",
    "# Compute matrix-matrix multiplication XTX\n",
    "XTX = X.T @ X  # Transpose of X multiplied by X\n",
    "\n",
    "# Compute the inverse of XTX\n",
    "XTX_inv = np.linalg.inv(XTX)\n",
    "\n",
    "# Create array y\n",
    "y = np.array([1100, 1300, 800, 900, 1000, 1100])\n",
    "\n",
    "# Compute w\n",
    "w = XTX_inv @ X.T @ y\n",
    "\n",
    "# Sum of all elements of the result\n",
    "result_sum = np.sum(w)\n",
    "\n",
    "print(\"Sum of all elements of w:\", result_sum)\n"
   ]
  },
  {
   "cell_type": "code",
   "execution_count": null,
   "id": "1db92504-bd03-434b-9a0c-cf5902a4162a",
   "metadata": {},
   "outputs": [],
   "source": []
  }
 ],
 "metadata": {
  "kernelspec": {
   "display_name": "Python 3 (ipykernel)",
   "language": "python",
   "name": "python3"
  },
  "language_info": {
   "codemirror_mode": {
    "name": "ipython",
    "version": 3
   },
   "file_extension": ".py",
   "mimetype": "text/x-python",
   "name": "python",
   "nbconvert_exporter": "python",
   "pygments_lexer": "ipython3",
   "version": "3.12.4"
  }
 },
 "nbformat": 4,
 "nbformat_minor": 5
}
