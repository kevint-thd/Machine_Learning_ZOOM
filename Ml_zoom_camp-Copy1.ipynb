{
 "cells": [
  {
   "cell_type": "code",
   "execution_count": 7,
   "id": "f8688802-80fb-4044-ad9d-052c026d6c27",
   "metadata": {},
   "outputs": [
    {
     "data": {
      "text/plain": [
       "'C:\\\\Users\\\\kevin\\\\anaconda3\\\\envs\\\\ml-zoomcamp'"
      ]
     },
     "execution_count": 7,
     "metadata": {},
     "output_type": "execute_result"
    }
   ],
   "source": [
    "import os\n",
    "os.getcwd()\n"
   ]
  },
  {
   "cell_type": "code",
   "execution_count": 8,
   "id": "b158a092-8bce-41cf-aefe-b509118b3eb8",
   "metadata": {},
   "outputs": [],
   "source": [
    "import numpy as np"
   ]
  },
  {
   "cell_type": "code",
   "execution_count": 9,
   "id": "b477a4a5-f2d9-486d-8fb3-8093ef38b7ec",
   "metadata": {},
   "outputs": [
    {
     "data": {
      "text/plain": [
       "<module 'numpy' from 'C:\\\\Users\\\\kevin\\\\anaconda3\\\\Lib\\\\site-packages\\\\numpy\\\\__init__.py'>"
      ]
     },
     "execution_count": 9,
     "metadata": {},
     "output_type": "execute_result"
    }
   ],
   "source": [
    "np"
   ]
  },
  {
   "cell_type": "markdown",
   "id": "9e710ea5-0a24-4667-9640-60c92e9b5d02",
   "metadata": {},
   "source": [
    "One Dimension Array"
   ]
  },
  {
   "cell_type": "code",
   "execution_count": 11,
   "id": "f8eea17e-1869-411d-a7cc-3a81a60c8fcf",
   "metadata": {},
   "outputs": [
    {
     "data": {
      "text/plain": [
       "array([0., 0., 0., 0., 0.])"
      ]
     },
     "execution_count": 11,
     "metadata": {},
     "output_type": "execute_result"
    }
   ],
   "source": [
    "np.zeros(5)"
   ]
  },
  {
   "cell_type": "code",
   "execution_count": 12,
   "id": "c1f53f8e-a377-4d96-b2fe-b45376b7d1ae",
   "metadata": {},
   "outputs": [
    {
     "data": {
      "text/plain": [
       "array([1., 1., 1., 1., 1., 1., 1., 1., 1., 1.])"
      ]
     },
     "execution_count": 12,
     "metadata": {},
     "output_type": "execute_result"
    }
   ],
   "source": [
    "np.ones(10)"
   ]
  },
  {
   "cell_type": "code",
   "execution_count": 13,
   "id": "ae299889-d58d-411e-a722-23923f343154",
   "metadata": {},
   "outputs": [
    {
     "data": {
      "text/plain": [
       "array([2.5, 2.5, 2.5, 2.5, 2.5, 2.5, 2.5, 2.5, 2.5, 2.5])"
      ]
     },
     "execution_count": 13,
     "metadata": {},
     "output_type": "execute_result"
    }
   ],
   "source": [
    "np.full(10, 2.5)"
   ]
  },
  {
   "cell_type": "code",
   "execution_count": 14,
   "id": "1a946266-058c-437f-a971-2d07ef188f40",
   "metadata": {},
   "outputs": [],
   "source": [
    "a = np.array([1,2,3,5,7,12])"
   ]
  },
  {
   "cell_type": "code",
   "execution_count": 15,
   "id": "b308a4aa-59cf-4a58-abc1-6639cab98385",
   "metadata": {},
   "outputs": [
    {
     "data": {
      "text/plain": [
       "3"
      ]
     },
     "execution_count": 15,
     "metadata": {},
     "output_type": "execute_result"
    }
   ],
   "source": [
    "a[2]"
   ]
  },
  {
   "cell_type": "code",
   "execution_count": 16,
   "id": "ce8061ee-c2cc-43f0-bd66-5d0dc1a144c1",
   "metadata": {},
   "outputs": [
    {
     "data": {
      "text/plain": [
       "array([3, 4, 5, 6, 7, 8, 9])"
      ]
     },
     "execution_count": 16,
     "metadata": {},
     "output_type": "execute_result"
    }
   ],
   "source": [
    "np.arange(3, 10)"
   ]
  },
  {
   "cell_type": "code",
   "execution_count": 17,
   "id": "258b9287-19cd-4c42-889e-7d494f9a621c",
   "metadata": {},
   "outputs": [],
   "source": [
    "# multi dimension array"
   ]
  },
  {
   "cell_type": "code",
   "execution_count": 18,
   "id": "ecc28855-17eb-44ff-a223-e5d4376fa803",
   "metadata": {},
   "outputs": [
    {
     "data": {
      "text/plain": [
       "array([[0., 0.],\n",
       "       [0., 0.],\n",
       "       [0., 0.],\n",
       "       [0., 0.],\n",
       "       [0., 0.]])"
      ]
     },
     "execution_count": 18,
     "metadata": {},
     "output_type": "execute_result"
    }
   ],
   "source": [
    "np.zeros((5,2))"
   ]
  },
  {
   "cell_type": "code",
   "execution_count": 19,
   "id": "23ff7610-9885-4a6f-bd80-537ab135cce0",
   "metadata": {},
   "outputs": [],
   "source": [
    "n = np.array([[10 ,3],[100 ,3]])"
   ]
  },
  {
   "cell_type": "code",
   "execution_count": 20,
   "id": "5aa43346-3098-4486-8142-0ce2d7748658",
   "metadata": {},
   "outputs": [
    {
     "data": {
      "text/plain": [
       "10"
      ]
     },
     "execution_count": 20,
     "metadata": {},
     "output_type": "execute_result"
    }
   ],
   "source": [
    "n[0,0]"
   ]
  },
  {
   "cell_type": "code",
   "execution_count": 21,
   "id": "3b1cf762-1d36-4e30-b2f9-0273cb2465f5",
   "metadata": {},
   "outputs": [
    {
     "data": {
      "text/plain": [
       "3"
      ]
     },
     "execution_count": 21,
     "metadata": {},
     "output_type": "execute_result"
    }
   ],
   "source": [
    "n[0,1]"
   ]
  },
  {
   "cell_type": "code",
   "execution_count": 22,
   "id": "33874691-e823-4ee9-83e2-0cf399f32979",
   "metadata": {},
   "outputs": [
    {
     "data": {
      "text/plain": [
       "100"
      ]
     },
     "execution_count": 22,
     "metadata": {},
     "output_type": "execute_result"
    }
   ],
   "source": [
    "n[1,0]"
   ]
  },
  {
   "cell_type": "code",
   "execution_count": 23,
   "id": "65690e06-0528-42c0-8987-28b72fe7000d",
   "metadata": {},
   "outputs": [
    {
     "data": {
      "text/plain": [
       "array([100,   3])"
      ]
     },
     "execution_count": 23,
     "metadata": {},
     "output_type": "execute_result"
    }
   ],
   "source": [
    "n[1]"
   ]
  },
  {
   "cell_type": "code",
   "execution_count": 24,
   "id": "88d1b0aa-620a-4245-acc0-531183e6942a",
   "metadata": {},
   "outputs": [
    {
     "data": {
      "text/plain": [
       "array([[ 10,   3],\n",
       "       [100,   3]])"
      ]
     },
     "execution_count": 24,
     "metadata": {},
     "output_type": "execute_result"
    }
   ],
   "source": [
    "n[:]"
   ]
  },
  {
   "cell_type": "code",
   "execution_count": 25,
   "id": "57ec2932-4cc1-41e2-a46a-2337c9d04213",
   "metadata": {},
   "outputs": [
    {
     "data": {
      "text/plain": [
       "array([[0.5488135]])"
      ]
     },
     "execution_count": 25,
     "metadata": {},
     "output_type": "execute_result"
    }
   ],
   "source": [
    "np. random.seed(0)\n",
    "np. random.rand(1,1)"
   ]
  },
  {
   "cell_type": "code",
   "execution_count": 26,
   "id": "6823e101-47bf-4049-8c30-0dbfeaf2e0c7",
   "metadata": {},
   "outputs": [],
   "source": [
    "import pandas as pd\n"
   ]
  },
  {
   "cell_type": "code",
   "execution_count": 27,
   "id": "e080fde8-b959-4f77-a948-2cefcb57a9cc",
   "metadata": {},
   "outputs": [
    {
     "data": {
      "text/plain": [
       "'2.2.2'"
      ]
     },
     "execution_count": 27,
     "metadata": {},
     "output_type": "execute_result"
    }
   ],
   "source": [
    "pd.__version__"
   ]
  },
  {
   "cell_type": "code",
   "execution_count": 129,
   "id": "04ee0d1d-d12e-495f-b4e7-23785ddc94c6",
   "metadata": {},
   "outputs": [
    {
     "data": {
      "text/plain": [
       "array([[40, 15],\n",
       "       [72, 22],\n",
       "       [43, 82],\n",
       "       [75,  7],\n",
       "       [34, 49]])"
      ]
     },
     "execution_count": 129,
     "metadata": {},
     "output_type": "execute_result"
    }
   ],
   "source": [
    "np. random.seed(2)\n",
    "np. random.randint(low=0,high=100, size=(5, 2))"
   ]
  },
  {
   "cell_type": "markdown",
   "id": "d6d4f374-243a-402c-88ca-69036ccd80f0",
   "metadata": {},
   "source": [
    "If you need floating-point random values (e.g., for machine learning initialization), use rand().\n",
    "If you need integer random values (e.g., for class labels or IDs), use randint()."
   ]
  },
  {
   "cell_type": "code",
   "execution_count": 140,
   "id": "f3d6eb96-371e-412e-8dac-d46b1ec548f9",
   "metadata": {},
   "outputs": [
    {
     "data": {
      "text/plain": [
       "array([0, 1, 2, 3, 4])"
      ]
     },
     "execution_count": 140,
     "metadata": {},
     "output_type": "execute_result"
    }
   ],
   "source": [
    "\n",
    "# Element-wise operation \n",
    "a = np.arange(5)\n",
    "a\n",
    "\n"
   ]
  },
  {
   "cell_type": "code",
   "execution_count": 142,
   "id": "1aaa0400-64f1-4a41-9260-ea5a70f2c4f8",
   "metadata": {},
   "outputs": [
    {
     "data": {
      "text/plain": [
       "array([  0, 100, 200, 300, 400])"
      ]
     },
     "execution_count": 142,
     "metadata": {},
     "output_type": "execute_result"
    }
   ],
   "source": [
    "a*100"
   ]
  },
  {
   "cell_type": "code",
   "execution_count": null,
   "id": "c3d52268-cac2-48f4-8256-72588decafc5",
   "metadata": {},
   "outputs": [],
   "source": [
    "#comaprison operator"
   ]
  },
  {
   "cell_type": "code",
   "execution_count": null,
   "id": "2e8869bf-4363-459e-8ba9-6c54e910c10f",
   "metadata": {},
   "outputs": [],
   "source": []
  },
  {
   "cell_type": "code",
   "execution_count": null,
   "id": "e35003dc-3a23-48e1-bd90-d54e8f1309e3",
   "metadata": {},
   "outputs": [],
   "source": []
  },
  {
   "cell_type": "code",
   "execution_count": null,
   "id": "31c3bcdc-79ca-4d1d-81a3-d89494742acb",
   "metadata": {},
   "outputs": [],
   "source": []
  },
  {
   "cell_type": "code",
   "execution_count": null,
   "id": "9780b323-89ae-41bd-9ec3-29b1d9aacaad",
   "metadata": {},
   "outputs": [],
   "source": []
  },
  {
   "cell_type": "code",
   "execution_count": null,
   "id": "5ae7bf73-acc1-42f7-b4a3-ca034848e507",
   "metadata": {},
   "outputs": [],
   "source": []
  },
  {
   "cell_type": "code",
   "execution_count": null,
   "id": "6e505504-ab9e-4cd5-8124-0972d82f7c0c",
   "metadata": {},
   "outputs": [],
   "source": []
  },
  {
   "cell_type": "code",
   "execution_count": null,
   "id": "769650e2-69f2-415e-adc8-1bdfa6c8a5bd",
   "metadata": {},
   "outputs": [],
   "source": []
  },
  {
   "cell_type": "code",
   "execution_count": null,
   "id": "0713cea2-0f67-4042-bbc1-f60c8dc9da89",
   "metadata": {},
   "outputs": [],
   "source": []
  },
  {
   "cell_type": "code",
   "execution_count": null,
   "id": "785ab660-803e-4145-a337-6f978a796e75",
   "metadata": {},
   "outputs": [],
   "source": []
  },
  {
   "cell_type": "code",
   "execution_count": null,
   "id": "bf56a021-9b02-4f85-b94c-a332e89aea84",
   "metadata": {},
   "outputs": [],
   "source": []
  },
  {
   "cell_type": "code",
   "execution_count": null,
   "id": "2d1155f6-b244-4fac-b693-37ceabc5a355",
   "metadata": {},
   "outputs": [],
   "source": []
  },
  {
   "cell_type": "code",
   "execution_count": 145,
   "id": "44d62742-93d2-4d61-86d3-b27aad4069fe",
   "metadata": {},
   "outputs": [],
   "source": [
    "u  = np.array([2, 4, 5,6])\n",
    "v  = np.array([1, 0, 0,2])\n",
    "\n",
    "\n",
    "\n"
   ]
  },
  {
   "cell_type": "code",
   "execution_count": 121,
   "id": "0b61134d-eb78-466f-b8a1-e6da59eebd96",
   "metadata": {},
   "outputs": [],
   "source": [
    "def vector_vector_multiplication(u,v):\n",
    "     assert u.shape[0] == v.shape[0]\n",
    "     n = u.shape[0]\n",
    "     results = 0\n",
    "     for i in range(n):\n",
    "         results = results + u[i]*v[i]\n",
    "     return results\n",
    "    "
   ]
  },
  {
   "cell_type": "code",
   "execution_count": 125,
   "id": "bc0dd306-0298-43c2-8ab8-5bb2d5b7c28e",
   "metadata": {},
   "outputs": [
    {
     "data": {
      "text/plain": [
       "14"
      ]
     },
     "execution_count": 125,
     "metadata": {},
     "output_type": "execute_result"
    }
   ],
   "source": [
    "vector_vector_multiplication(u,v)"
   ]
  },
  {
   "cell_type": "code",
   "execution_count": 127,
   "id": "cdcb3e50-4dbe-40da-9bba-4b5d30b03e99",
   "metadata": {},
   "outputs": [
    {
     "data": {
      "text/plain": [
       "14"
      ]
     },
     "execution_count": 127,
     "metadata": {},
     "output_type": "execute_result"
    }
   ],
   "source": [
    "u.dot(v)"
   ]
  },
  {
   "cell_type": "code",
   "execution_count": null,
   "id": "f49205d7-2f9e-4861-8938-7c506293535b",
   "metadata": {},
   "outputs": [],
   "source": [
    "def matrix_vector_ultiplication(u,v):\n",
    "     assert u.shape[1] == v.shape[0]\n",
    "     num_rows = u.shape[1]\n",
    "     results = np.zeros(num_rows)\n",
    "     for i in range(num_rows):\n",
    "         resultS[i] = \n",
    "     return results"
   ]
  },
  {
   "cell_type": "code",
   "execution_count": null,
   "id": "a0e7fef0-577f-4f20-a2b9-705af9743401",
   "metadata": {},
   "outputs": [],
   "source": []
  },
  {
   "cell_type": "code",
   "execution_count": null,
   "id": "39fd2bde-bad5-4249-9407-f35d9691324c",
   "metadata": {},
   "outputs": [],
   "source": []
  },
  {
   "cell_type": "code",
   "execution_count": null,
   "id": "2625339b-aeb2-4db1-bb82-8e3eb97c9483",
   "metadata": {},
   "outputs": [],
   "source": []
  },
  {
   "cell_type": "code",
   "execution_count": null,
   "id": "040226a3-d5a5-408e-b27c-6103cb5f2e60",
   "metadata": {},
   "outputs": [],
   "source": []
  },
  {
   "cell_type": "code",
   "execution_count": null,
   "id": "534cabe9-5a9e-4f2d-82bc-cb71c80cada8",
   "metadata": {},
   "outputs": [],
   "source": []
  },
  {
   "cell_type": "code",
   "execution_count": null,
   "id": "1707487f-da2e-4bac-abd1-46f8e652783e",
   "metadata": {},
   "outputs": [],
   "source": []
  },
  {
   "cell_type": "code",
   "execution_count": null,
   "id": "38d98d40-cd32-4b73-a05b-88496d88e807",
   "metadata": {},
   "outputs": [],
   "source": []
  },
  {
   "cell_type": "code",
   "execution_count": null,
   "id": "d346e3c4-0bb4-453e-9448-afd6a83cab74",
   "metadata": {},
   "outputs": [],
   "source": []
  },
  {
   "cell_type": "code",
   "execution_count": null,
   "id": "1e40169d-c68e-4e3a-b733-fec14fc2d931",
   "metadata": {},
   "outputs": [],
   "source": []
  },
  {
   "cell_type": "code",
   "execution_count": null,
   "id": "4223f0af-9030-4723-bc2d-abd444cdf748",
   "metadata": {},
   "outputs": [],
   "source": []
  },
  {
   "cell_type": "code",
   "execution_count": null,
   "id": "1bff2dbe-dbd2-4a99-80ba-244a2f5879d4",
   "metadata": {},
   "outputs": [],
   "source": []
  },
  {
   "cell_type": "code",
   "execution_count": null,
   "id": "b1e335e7-73b0-4419-a849-f8cfa5a03744",
   "metadata": {},
   "outputs": [],
   "source": []
  },
  {
   "cell_type": "code",
   "execution_count": null,
   "id": "3f126554-4ef9-41c4-82d8-ba6530674780",
   "metadata": {},
   "outputs": [],
   "source": []
  },
  {
   "cell_type": "code",
   "execution_count": null,
   "id": "6b7a8463-0eec-4d8c-830e-6c82c86bdb25",
   "metadata": {},
   "outputs": [],
   "source": []
  },
  {
   "cell_type": "code",
   "execution_count": null,
   "id": "59a55ec7-8686-4b3e-978f-b753283d1b94",
   "metadata": {},
   "outputs": [],
   "source": []
  },
  {
   "cell_type": "code",
   "execution_count": null,
   "id": "f77cc2d5-38c0-47c8-a17d-5ca06bc962d0",
   "metadata": {},
   "outputs": [],
   "source": []
  },
  {
   "cell_type": "code",
   "execution_count": null,
   "id": "760d621e-8c31-45a0-b193-e8c5169bbaee",
   "metadata": {},
   "outputs": [],
   "source": []
  },
  {
   "cell_type": "code",
   "execution_count": null,
   "id": "9b869e98-8bd3-4dcf-a59e-e38914200320",
   "metadata": {},
   "outputs": [],
   "source": []
  },
  {
   "cell_type": "code",
   "execution_count": null,
   "id": "7c167e2c-8d3b-480f-a80b-cb4961009aa1",
   "metadata": {},
   "outputs": [],
   "source": []
  },
  {
   "cell_type": "code",
   "execution_count": null,
   "id": "8b4e7d5a-91a0-4d49-a037-4256884ae66a",
   "metadata": {},
   "outputs": [],
   "source": []
  },
  {
   "cell_type": "code",
   "execution_count": null,
   "id": "a3ecb6bc-1326-43d0-9317-906891abdc3d",
   "metadata": {},
   "outputs": [],
   "source": []
  },
  {
   "cell_type": "code",
   "execution_count": null,
   "id": "cb314777-dc92-4997-9485-ee756d7d6a69",
   "metadata": {},
   "outputs": [],
   "source": []
  },
  {
   "cell_type": "code",
   "execution_count": null,
   "id": "533f8836-04c4-4872-810f-b0c7a83b4766",
   "metadata": {},
   "outputs": [],
   "source": []
  },
  {
   "cell_type": "code",
   "execution_count": null,
   "id": "141ec5ae-68fd-456a-81b1-80fba5df4084",
   "metadata": {},
   "outputs": [],
   "source": []
  },
  {
   "cell_type": "code",
   "execution_count": null,
   "id": "bf1ac60a-1d60-477c-8ad3-b80de96ba417",
   "metadata": {},
   "outputs": [],
   "source": []
  },
  {
   "cell_type": "code",
   "execution_count": null,
   "id": "b7b292e8-d0b7-40c2-a783-867097d7845c",
   "metadata": {},
   "outputs": [],
   "source": []
  },
  {
   "cell_type": "code",
   "execution_count": null,
   "id": "c68c8c1d-43d1-493b-8645-ecee5823d925",
   "metadata": {},
   "outputs": [],
   "source": []
  },
  {
   "cell_type": "code",
   "execution_count": null,
   "id": "5a50621f-f629-4c07-ad34-49184e5359d6",
   "metadata": {},
   "outputs": [],
   "source": []
  },
  {
   "cell_type": "code",
   "execution_count": null,
   "id": "7a9e1ba6-5a59-4e10-873f-ae25b1e8a801",
   "metadata": {},
   "outputs": [],
   "source": []
  },
  {
   "cell_type": "code",
   "execution_count": null,
   "id": "5fdff0f7-67ab-4be9-a410-154f8819c04e",
   "metadata": {},
   "outputs": [],
   "source": []
  },
  {
   "cell_type": "code",
   "execution_count": null,
   "id": "45667b3b-ceb2-4d4a-a299-c2c84554b16a",
   "metadata": {},
   "outputs": [],
   "source": []
  },
  {
   "cell_type": "code",
   "execution_count": null,
   "id": "ad177611-0588-4f3c-9908-11d5e020bcff",
   "metadata": {},
   "outputs": [],
   "source": []
  },
  {
   "cell_type": "code",
   "execution_count": null,
   "id": "6f5d5232-9823-479f-839e-e212dcdf4484",
   "metadata": {},
   "outputs": [],
   "source": []
  },
  {
   "cell_type": "code",
   "execution_count": null,
   "id": "bf67d8d8-934a-4297-b3f8-aff6918f75fb",
   "metadata": {},
   "outputs": [],
   "source": []
  },
  {
   "cell_type": "code",
   "execution_count": null,
   "id": "15ebcdda-8841-47fc-898e-d02758150486",
   "metadata": {},
   "outputs": [],
   "source": []
  },
  {
   "cell_type": "code",
   "execution_count": null,
   "id": "e65f8b26-43da-4327-9297-f515d7b63209",
   "metadata": {},
   "outputs": [],
   "source": []
  },
  {
   "cell_type": "code",
   "execution_count": null,
   "id": "6738b5a9-7c7a-4b1c-b60c-7b5b282bd22d",
   "metadata": {},
   "outputs": [],
   "source": []
  },
  {
   "cell_type": "code",
   "execution_count": null,
   "id": "17476652-4f21-4940-aa44-e38d3d8976da",
   "metadata": {},
   "outputs": [],
   "source": []
  },
  {
   "cell_type": "code",
   "execution_count": null,
   "id": "41c64209-1c79-4f84-bf8e-f4c3d88d5df1",
   "metadata": {},
   "outputs": [],
   "source": []
  },
  {
   "cell_type": "code",
   "execution_count": null,
   "id": "67ca4fa9-263e-4fca-9460-ebd6917b5aac",
   "metadata": {},
   "outputs": [],
   "source": []
  },
  {
   "cell_type": "code",
   "execution_count": null,
   "id": "aac4a9ea-605b-41ee-bc21-c7ae6a148eca",
   "metadata": {},
   "outputs": [],
   "source": []
  },
  {
   "cell_type": "code",
   "execution_count": null,
   "id": "52d433de-f6e0-4e09-9c56-7a0a6d1089f0",
   "metadata": {},
   "outputs": [],
   "source": []
  },
  {
   "cell_type": "code",
   "execution_count": null,
   "id": "c15a4ae1-7127-48dd-a2d3-2c6e620967fa",
   "metadata": {},
   "outputs": [],
   "source": []
  },
  {
   "cell_type": "code",
   "execution_count": null,
   "id": "fd4ae902-8fef-41b8-9491-c8221a108c42",
   "metadata": {},
   "outputs": [],
   "source": []
  },
  {
   "cell_type": "code",
   "execution_count": null,
   "id": "57e78906-5c4b-42aa-8ecb-cc417e5f7151",
   "metadata": {},
   "outputs": [],
   "source": []
  },
  {
   "cell_type": "code",
   "execution_count": null,
   "id": "061a79b9-b380-4afd-ac10-9dc616834db4",
   "metadata": {},
   "outputs": [],
   "source": []
  },
  {
   "cell_type": "code",
   "execution_count": null,
   "id": "1ca6f3f4-ed84-4a6e-903c-f27f2c94f8a3",
   "metadata": {},
   "outputs": [],
   "source": []
  },
  {
   "cell_type": "code",
   "execution_count": null,
   "id": "f1c524af-7e2e-41b6-9f2c-ff27210aff5a",
   "metadata": {},
   "outputs": [],
   "source": []
  }
 ],
 "metadata": {
  "kernelspec": {
   "display_name": "Python 3 (ipykernel)",
   "language": "python",
   "name": "python3"
  },
  "language_info": {
   "codemirror_mode": {
    "name": "ipython",
    "version": 3
   },
   "file_extension": ".py",
   "mimetype": "text/x-python",
   "name": "python",
   "nbconvert_exporter": "python",
   "pygments_lexer": "ipython3",
   "version": "3.12.4"
  }
 },
 "nbformat": 4,
 "nbformat_minor": 5
}
